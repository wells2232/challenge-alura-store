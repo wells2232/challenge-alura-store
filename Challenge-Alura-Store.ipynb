{
 "cells": [
  {
   "cell_type": "markdown",
   "metadata": {
    "id": "RhEdWd9YUR6H"
   },
   "source": [
    "### Importação dos dados\n",
    "\n"
   ]
  },
  {
   "cell_type": "code",
   "execution_count": 1197,
   "metadata": {
    "colab": {
     "base_uri": "https://localhost:8080/",
     "height": 206
    },
    "id": "T3EvaeQ_INIL",
    "outputId": "7194bc65-372c-47e6-cb47-d4bfc9952c91"
   },
   "outputs": [
    {
     "name": "stdout",
     "output_type": "stream",
     "text": [
      "{'Micro-ondas': 60, 'TV Led UHD 4K': 60, 'Guarda roupas': 60, 'Secadora de roupas': 58, 'Cômoda': 56, 'Blocos de montar': 56, 'Bola de basquete': 55, 'Bicicleta': 54, 'Copo térmico': 54, 'Geladeira': 54, 'Impressora': 54, 'Bateria': 53, 'Faqueiro': 52, 'Carrinho controle remoto': 52, 'Modelagem preditiva': 51, 'Fone de ouvido': 50, 'Xadrez de madeira': 49, 'Celular Plus X42': 49, 'Lava louças': 48, 'Lavadora de roupas': 47, 'Guitarra': 47, 'Violão': 46, 'Sofá retrátil': 46, 'Cadeira de escritório': 46, 'Fogão': 45, 'Cama box': 44, 'Kit banquetas': 44, 'Smart TV': 44, 'Cama king': 44, 'Cubo mágico 8x8': 44, 'Mesa de centro': 44, 'Jogo de panelas': 43, 'Smartwatch': 43, 'Jogo de tabuleiro': 43, 'Bola de vôlei': 42, 'Dashboards com Power BI': 42, 'Tablet ABXY': 42, 'Poltrona': 41, 'Iniciando em programação': 41, 'Jogo de copos': 41, 'Assistente virtual': 40, 'Boneca bebê': 40, 'Mesa de jantar': 40, 'Dinossauro Rex': 40, 'Corda de pular': 40, 'Mochila': 39, 'Ciência de dados com python': 39, 'Pandeiro': 36, 'Panela de pressão': 35, 'Headset': 33, 'Celular ABXY': 33}\n",
      "\n",
      "{'Cama box': 62, 'Faqueiro': 59, 'Dashboards com Power BI': 56, 'Cama king': 56, 'Carrinho controle remoto': 55, 'Mesa de jantar': 55, 'Cômoda': 55, 'Smart TV': 54, 'Blocos de montar': 54, 'Pandeiro': 52, 'Impressora': 50, 'Modelagem preditiva': 50, 'Assistente virtual': 50, 'Jogo de panelas': 50, 'Bola de basquete': 50, 'Copo térmico': 48, 'Celular Plus X42': 48, 'Boneca bebê': 48, 'Bateria': 48, 'Bola de vôlei': 48, 'Jogo de tabuleiro': 48, 'Micro-ondas': 48, 'Fogão': 47, 'Cubo mágico 8x8': 47, 'Sofá retrátil': 47, 'Dinossauro Rex': 47, 'Panela de pressão': 46, 'Jogo de copos': 46, 'Tablet ABXY': 45, 'Poltrona': 45, 'Bicicleta': 45, 'Mesa de centro': 44, 'Fone de ouvido': 44, 'Lava louças': 43, 'Corda de pular': 43, 'Iniciando em programação': 43, 'Mochila': 43, 'Headset': 42, 'Kit banquetas': 42, 'TV Led UHD 4K': 40, 'Secadora de roupas': 40, 'Cadeira de escritório': 40, 'Celular ABXY': 39, 'Xadrez de madeira': 39, 'Smartwatch': 39, 'Lavadora de roupas': 38, 'Geladeira': 38, 'Ciência de dados com python': 38, 'Violão': 37, 'Guarda roupas': 34, 'Guitarra': 33}\n"
     ]
    }
   ],
   "source": [
    "import pandas as pd\n",
    "\n",
    "url = \"https://raw.githubusercontent.com/alura-es-cursos/challenge1-data-science/refs/heads/main/base-de-dados-challenge-1/loja_1.csv\"\n",
    "url2 = \"https://raw.githubusercontent.com/alura-es-cursos/challenge1-data-science/refs/heads/main/base-de-dados-challenge-1/loja_2.csv\"\n",
    "url3 = \"https://raw.githubusercontent.com/alura-es-cursos/challenge1-data-science/refs/heads/main/base-de-dados-challenge-1/loja_3.csv\"\n",
    "url4 = \"https://raw.githubusercontent.com/alura-es-cursos/challenge1-data-science/refs/heads/main/base-de-dados-challenge-1/loja_4.csv\"\n",
    "\n",
    "loja = pd.read_csv(url)\n",
    "loja2 = pd.read_csv(url2)\n",
    "loja3 = pd.read_csv(url3)\n",
    "loja4 = pd.read_csv(url4)\n",
    "\n",
    "print(loja['Produto'].value_counts().to_dict())\n",
    "print()\n",
    "print(loja4['Produto'].value_counts().to_dict())\n"
   ]
  },
  {
   "cell_type": "markdown",
   "metadata": {
    "id": "X62IW3KFUIYm"
   },
   "source": [
    "# 1. Análise do faturamento\n"
   ]
  },
  {
   "cell_type": "code",
   "execution_count": 1199,
   "metadata": {
    "id": "xykobSftV64I"
   },
   "outputs": [],
   "source": [
    "def faturamento_total(loja):\n",
    "    faturamento = sum(loja[\"Preço\"])\n",
    "    return faturamento"
   ]
  },
  {
   "cell_type": "code",
   "execution_count": 1200,
   "metadata": {},
   "outputs": [
    {
     "data": {
      "text/html": [
       "<div>\n",
       "<style scoped>\n",
       "    .dataframe tbody tr th:only-of-type {\n",
       "        vertical-align: middle;\n",
       "    }\n",
       "\n",
       "    .dataframe tbody tr th {\n",
       "        vertical-align: top;\n",
       "    }\n",
       "\n",
       "    .dataframe thead th {\n",
       "        text-align: right;\n",
       "    }\n",
       "</style>\n",
       "<table border=\"1\" class=\"dataframe\">\n",
       "  <thead>\n",
       "    <tr style=\"text-align: right;\">\n",
       "      <th></th>\n",
       "      <th>Faturamento</th>\n",
       "    </tr>\n",
       "  </thead>\n",
       "  <tbody>\n",
       "    <tr>\n",
       "      <th>Loja 1</th>\n",
       "      <td>1534509.12</td>\n",
       "    </tr>\n",
       "    <tr>\n",
       "      <th>Loja 2</th>\n",
       "      <td>1488459.06</td>\n",
       "    </tr>\n",
       "    <tr>\n",
       "      <th>Loja 3</th>\n",
       "      <td>1464025.03</td>\n",
       "    </tr>\n",
       "    <tr>\n",
       "      <th>Loja 4</th>\n",
       "      <td>1384497.58</td>\n",
       "    </tr>\n",
       "  </tbody>\n",
       "</table>\n",
       "</div>"
      ],
      "text/plain": [
       "        Faturamento\n",
       "Loja 1   1534509.12\n",
       "Loja 2   1488459.06\n",
       "Loja 3   1464025.03\n",
       "Loja 4   1384497.58"
      ]
     },
     "execution_count": 1200,
     "metadata": {},
     "output_type": "execute_result"
    }
   ],
   "source": [
    "lojas = [loja, loja2, loja3, loja4]\n",
    "nome_loja= [f\"Loja {i+1}\" for i in range(len(lojas))]\n",
    "\n",
    "faturamento = {\"Faturamento\":[faturamento_total(loja) for loja in lojas]}\n",
    "faturamento_lojas = pd.DataFrame(data=faturamento, index=nome_loja)\n",
    "faturamento_lojas"
   ]
  },
  {
   "cell_type": "markdown",
   "metadata": {
    "id": "2V_vcAPzWZmR"
   },
   "source": [
    "# 2. Vendas por Categoria\n"
   ]
  },
  {
   "cell_type": "code",
   "execution_count": 1203,
   "metadata": {
    "id": "A34YupIuYhfF"
   },
   "outputs": [],
   "source": [
    "def vendas_categoria(loja):\n",
    "    categorias = loja['Categoria do Produto']\n",
    "    vendas = {}\n",
    "    for categoria in categorias:\n",
    "        if categoria in vendas: \n",
    "            vendas[categoria] += 1\n",
    "        else: \n",
    "            vendas[categoria] = 1\n",
    "    \n",
    "    return vendas"
   ]
  },
  {
   "cell_type": "code",
   "execution_count": 1211,
   "metadata": {
    "id": "yZR6cOjXYSk1"
   },
   "outputs": [],
   "source": [
    "def categoria_mais_popular(vendas): \n",
    "    if not vendas:\n",
    "        return None, 0\n",
    "    categoria_mais_vendida = max(vendas, key=vendas.get)\n",
    "    return categoria_mais_vendida, vendas[categoria_mais_vendida]"
   ]
  },
  {
   "cell_type": "code",
   "execution_count": 1213,
   "metadata": {},
   "outputs": [
    {
     "data": {
      "text/html": [
       "<div>\n",
       "<style scoped>\n",
       "    .dataframe tbody tr th:only-of-type {\n",
       "        vertical-align: middle;\n",
       "    }\n",
       "\n",
       "    .dataframe tbody tr th {\n",
       "        vertical-align: top;\n",
       "    }\n",
       "\n",
       "    .dataframe thead th {\n",
       "        text-align: right;\n",
       "    }\n",
       "</style>\n",
       "<table border=\"1\" class=\"dataframe\">\n",
       "  <thead>\n",
       "    <tr style=\"text-align: right;\">\n",
       "      <th></th>\n",
       "      <th>Loja 1</th>\n",
       "      <th>Loja 2</th>\n",
       "      <th>Loja 3</th>\n",
       "      <th>Loja 4</th>\n",
       "    </tr>\n",
       "  </thead>\n",
       "  <tbody>\n",
       "    <tr>\n",
       "      <th>eletronicos</th>\n",
       "      <td>448</td>\n",
       "      <td>422</td>\n",
       "      <td>451</td>\n",
       "      <td>451</td>\n",
       "    </tr>\n",
       "    <tr>\n",
       "      <th>moveis</th>\n",
       "      <td>465</td>\n",
       "      <td>442</td>\n",
       "      <td>499</td>\n",
       "      <td>480</td>\n",
       "    </tr>\n",
       "    <tr>\n",
       "      <th>brinquedos</th>\n",
       "      <td>324</td>\n",
       "      <td>313</td>\n",
       "      <td>315</td>\n",
       "      <td>338</td>\n",
       "    </tr>\n",
       "    <tr>\n",
       "      <th>eletrodomesticos</th>\n",
       "      <td>312</td>\n",
       "      <td>305</td>\n",
       "      <td>278</td>\n",
       "      <td>254</td>\n",
       "    </tr>\n",
       "    <tr>\n",
       "      <th>utilidades domesticas</th>\n",
       "      <td>171</td>\n",
       "      <td>181</td>\n",
       "      <td>177</td>\n",
       "      <td>201</td>\n",
       "    </tr>\n",
       "    <tr>\n",
       "      <th>esporte e lazer</th>\n",
       "      <td>284</td>\n",
       "      <td>275</td>\n",
       "      <td>277</td>\n",
       "      <td>277</td>\n",
       "    </tr>\n",
       "    <tr>\n",
       "      <th>livros</th>\n",
       "      <td>173</td>\n",
       "      <td>197</td>\n",
       "      <td>185</td>\n",
       "      <td>187</td>\n",
       "    </tr>\n",
       "    <tr>\n",
       "      <th>instrumentos musicais</th>\n",
       "      <td>182</td>\n",
       "      <td>224</td>\n",
       "      <td>177</td>\n",
       "      <td>170</td>\n",
       "    </tr>\n",
       "    <tr>\n",
       "      <th>Categoria mais vendida</th>\n",
       "      <td>{'moveis': 465}</td>\n",
       "      <td>{'moveis': 442}</td>\n",
       "      <td>{'moveis': 499}</td>\n",
       "      <td>{'moveis': 480}</td>\n",
       "    </tr>\n",
       "  </tbody>\n",
       "</table>\n",
       "</div>"
      ],
      "text/plain": [
       "                                 Loja 1           Loja 2           Loja 3  \\\n",
       "eletronicos                         448              422              451   \n",
       "moveis                              465              442              499   \n",
       "brinquedos                          324              313              315   \n",
       "eletrodomesticos                    312              305              278   \n",
       "utilidades domesticas               171              181              177   \n",
       "esporte e lazer                     284              275              277   \n",
       "livros                              173              197              185   \n",
       "instrumentos musicais               182              224              177   \n",
       "Categoria mais vendida  {'moveis': 465}  {'moveis': 442}  {'moveis': 499}   \n",
       "\n",
       "                                 Loja 4  \n",
       "eletronicos                         451  \n",
       "moveis                              480  \n",
       "brinquedos                          338  \n",
       "eletrodomesticos                    254  \n",
       "utilidades domesticas               201  \n",
       "esporte e lazer                     277  \n",
       "livros                              187  \n",
       "instrumentos musicais               170  \n",
       "Categoria mais vendida  {'moveis': 480}  "
      ]
     },
     "execution_count": 1213,
     "metadata": {},
     "output_type": "execute_result"
    }
   ],
   "source": [
    "dados = []\n",
    "categoria_mais_vendida =[]\n",
    "for i in range(len(lojas)): \n",
    "    vendas = vendas_categoria(lojas[i])\n",
    "    categoria, quantidade = categoria_mais_popular(vendas)\n",
    "    categoria_mais_vendida.append({categoria:quantidade})\n",
    "    dados.append(vendas)\n",
    "\n",
    "    \n",
    "vendas_por_categoria = pd.DataFrame(dados, index=nome_loja)\n",
    "vendas_por_categoria[\"Categoria mais vendida\"] = categoria_mais_vendida\n",
    "vendas_por_categoria.T"
   ]
  },
  {
   "cell_type": "markdown",
   "metadata": {
    "id": "Rq6tU_xSY3jk"
   },
   "source": [
    "# 3. Média de Avaliação das Lojas"
   ]
  },
  {
   "cell_type": "code",
   "execution_count": 1216,
   "metadata": {
    "id": "bh3jjjJwY5MU"
   },
   "outputs": [
    {
     "data": {
      "text/plain": [
       "3.9"
      ]
     },
     "execution_count": 1216,
     "metadata": {},
     "output_type": "execute_result"
    }
   ],
   "source": [
    "\n",
    "\n",
    "def calcular_media(loja):\n",
    "    media = sum(loja['Avaliação da compra']) / len(loja)\n",
    "    return int(media * 10) / 10\n",
    "\n",
    "calcular_media(loja)"
   ]
  },
  {
   "cell_type": "code",
   "execution_count": 1218,
   "metadata": {
    "id": "I0KkjPoTY88F"
   },
   "outputs": [
    {
     "data": {
      "text/html": [
       "<div>\n",
       "<style scoped>\n",
       "    .dataframe tbody tr th:only-of-type {\n",
       "        vertical-align: middle;\n",
       "    }\n",
       "\n",
       "    .dataframe tbody tr th {\n",
       "        vertical-align: top;\n",
       "    }\n",
       "\n",
       "    .dataframe thead th {\n",
       "        text-align: right;\n",
       "    }\n",
       "</style>\n",
       "<table border=\"1\" class=\"dataframe\">\n",
       "  <thead>\n",
       "    <tr style=\"text-align: right;\">\n",
       "      <th></th>\n",
       "      <th>Média de avaliação</th>\n",
       "    </tr>\n",
       "  </thead>\n",
       "  <tbody>\n",
       "    <tr>\n",
       "      <th>Loja 1</th>\n",
       "      <td>3.9</td>\n",
       "    </tr>\n",
       "    <tr>\n",
       "      <th>Loja 2</th>\n",
       "      <td>4.0</td>\n",
       "    </tr>\n",
       "    <tr>\n",
       "      <th>Loja 3</th>\n",
       "      <td>4.0</td>\n",
       "    </tr>\n",
       "    <tr>\n",
       "      <th>Loja 4</th>\n",
       "      <td>3.9</td>\n",
       "    </tr>\n",
       "  </tbody>\n",
       "</table>\n",
       "</div>"
      ],
      "text/plain": [
       "        Média de avaliação\n",
       "Loja 1                 3.9\n",
       "Loja 2                 4.0\n",
       "Loja 3                 4.0\n",
       "Loja 4                 3.9"
      ]
     },
     "execution_count": 1218,
     "metadata": {},
     "output_type": "execute_result"
    }
   ],
   "source": [
    "media_lojas = []\n",
    "for loja in lojas:\n",
    "    media = calcular_media(loja)\n",
    "    media_lojas.append(media)\n",
    "\n",
    "avaliacao = pd.DataFrame(columns=[\"Média de avaliação\"], data = media_lojas, index=nome_loja)\n",
    "avaliacao"
   ]
  },
  {
   "cell_type": "markdown",
   "metadata": {
    "id": "DmNp1KPBZCm-"
   },
   "source": [
    "# 4. Produtos Mais e Menos Vendidos"
   ]
  },
  {
   "cell_type": "code",
   "execution_count": 1221,
   "metadata": {
    "id": "qoyjqijQZHfF"
   },
   "outputs": [],
   "source": [
    "def produtos_mais_vendidos(loja):\n",
    "    produtos = loja['Produto']\n",
    "    vendas = {}\n",
    "    for produto in produtos:\n",
    "        if produto in vendas: \n",
    "            vendas[produto] += 1\n",
    "        else: \n",
    "            vendas[produto] = 1\n",
    "\n",
    "    for venda in vendas.items():\n",
    "        if venda[1] == max(vendas.values()):\n",
    "            mais_vendido = venda\n",
    "        elif venda[1] == min(vendas.values()):\n",
    "            menos_vendido = venda\n",
    "    \n",
    "    return mais_vendido, menos_vendido, vendas"
   ]
  },
  {
   "cell_type": "code",
   "execution_count": 1223,
   "metadata": {
    "id": "0Sw3sd4IZIGW"
   },
   "outputs": [
    {
     "data": {
      "text/html": [
       "<div>\n",
       "<style scoped>\n",
       "    .dataframe tbody tr th:only-of-type {\n",
       "        vertical-align: middle;\n",
       "    }\n",
       "\n",
       "    .dataframe tbody tr th {\n",
       "        vertical-align: top;\n",
       "    }\n",
       "\n",
       "    .dataframe thead th {\n",
       "        text-align: right;\n",
       "    }\n",
       "</style>\n",
       "<table border=\"1\" class=\"dataframe\">\n",
       "  <thead>\n",
       "    <tr style=\"text-align: right;\">\n",
       "      <th></th>\n",
       "      <th>Mais vendido</th>\n",
       "      <th>Menos vendido</th>\n",
       "    </tr>\n",
       "  </thead>\n",
       "  <tbody>\n",
       "    <tr>\n",
       "      <th>Loja 1</th>\n",
       "      <td>(Guarda roupas, 60)</td>\n",
       "      <td>(Celular ABXY, 33)</td>\n",
       "    </tr>\n",
       "    <tr>\n",
       "      <th>Loja 2</th>\n",
       "      <td>(Iniciando em programação, 65)</td>\n",
       "      <td>(Jogo de tabuleiro, 32)</td>\n",
       "    </tr>\n",
       "    <tr>\n",
       "      <th>Loja 3</th>\n",
       "      <td>(Kit banquetas, 57)</td>\n",
       "      <td>(Blocos de montar, 35)</td>\n",
       "    </tr>\n",
       "    <tr>\n",
       "      <th>Loja 4</th>\n",
       "      <td>(Cama box, 62)</td>\n",
       "      <td>(Guitarra, 33)</td>\n",
       "    </tr>\n",
       "  </tbody>\n",
       "</table>\n",
       "</div>"
      ],
      "text/plain": [
       "                          Mais vendido            Menos vendido\n",
       "Loja 1             (Guarda roupas, 60)       (Celular ABXY, 33)\n",
       "Loja 2  (Iniciando em programação, 65)  (Jogo de tabuleiro, 32)\n",
       "Loja 3             (Kit banquetas, 57)   (Blocos de montar, 35)\n",
       "Loja 4                  (Cama box, 62)           (Guitarra, 33)"
      ]
     },
     "execution_count": 1223,
     "metadata": {},
     "output_type": "execute_result"
    }
   ],
   "source": [
    "from matplotlib import pyplot as plt\n",
    "\n",
    "\n",
    "prod_mais_vendidos = []\n",
    "prod_menos_vendidos = []\n",
    "vendas = []\n",
    "for i in range(len(lojas)):\n",
    "    vendas = produtos_mais_vendidos(lojas[i])\n",
    "    prod_mais_vendidos.append(vendas[0])\n",
    "    prod_menos_vendidos.append(vendas[1])\n",
    "    vendas = vendas[2]\n",
    "\n",
    "analise_produtos = pd.DataFrame({'Mais vendido': prod_mais_vendidos,\n",
    "                                 'Menos vendido':prod_menos_vendidos},\n",
    "                                index=nome_loja)\n",
    "analise_produtos"
   ]
  },
  {
   "cell_type": "code",
   "execution_count": 1225,
   "metadata": {},
   "outputs": [
    {
     "data": {
      "image/png": "[encoded data removed]",
      "text/plain": [
       "<Figure size 800x800 with 2 Axes>"
      ]
     },
     "metadata": {},
     "output_type": "display_data"
    }
   ],
   "source": [
    "x = nome_loja\n",
    "menos_vendidos = [analise_produtos.iloc[i, 1][1] for i in range(len(lojas))]\n",
    "mais_vendidos = [analise_produtos.iloc[i, 0][1] for i in range(len(lojas))]\n",
    "s = [analise_produtos.iloc[i, 1] for i in range(len(lojas))]\n",
    "s1 = [analise_produtos.iloc[i, 0] for i in range(len(lojas))]\n",
    "\n",
    "\n",
    "fig, (ax1, ax2) = plt.subplots(2, figsize=(8, 8))\n",
    "\n",
    "ax1.bar(x, menos_vendidos, width=.2)\n",
    "ax2.bar(x, mais_vendidos, width=.2)\n",
    "ax1.margins(x=.2, y=.4)\n",
    "ax2.margins(x=.2, y=.4)\n",
    "ax1.set_title('Menos vendidos')\n",
    "ax2.set_title('Mais vendidos')\n",
    "fig.tight_layout()\n",
    "\n",
    "for i in range(len(x)):\n",
    "        ax1.text(i - .1, menos_vendidos[i] + 2, s[i], size=8)\n",
    "        ax2.text(i - .1, mais_vendidos[i] + 2, s1[i], size=8)\n",
    "    \n",
    "\n",
    "plt.show()"
   ]
  },
  {
   "cell_type": "markdown",
   "metadata": {
    "id": "Fl0cGi3bZKqU"
   },
   "source": [
    "# 5. Frete Médio por Loja"
   ]
  },
  {
   "cell_type": "code",
   "execution_count": 1228,
   "metadata": {
    "id": "S2JeaCykZNy9"
   },
   "outputs": [],
   "source": [
    "def calcular_frete(loja):\n",
    "    frete_media = sum(loja['Frete']) / len(loja)\n",
    "    return round(frete_media, 2)"
   ]
  },
  {
   "cell_type": "code",
   "execution_count": 1230,
   "metadata": {
    "id": "0tSdCie9ZQlt"
   },
   "outputs": [
    {
     "data": {
      "text/html": [
       "<div>\n",
       "<style scoped>\n",
       "    .dataframe tbody tr th:only-of-type {\n",
       "        vertical-align: middle;\n",
       "    }\n",
       "\n",
       "    .dataframe tbody tr th {\n",
       "        vertical-align: top;\n",
       "    }\n",
       "\n",
       "    .dataframe thead th {\n",
       "        text-align: right;\n",
       "    }\n",
       "</style>\n",
       "<table border=\"1\" class=\"dataframe\">\n",
       "  <thead>\n",
       "    <tr style=\"text-align: right;\">\n",
       "      <th></th>\n",
       "      <th>Frete Médio</th>\n",
       "    </tr>\n",
       "  </thead>\n",
       "  <tbody>\n",
       "    <tr>\n",
       "      <th>Loja 1</th>\n",
       "      <td>34.69</td>\n",
       "    </tr>\n",
       "    <tr>\n",
       "      <th>Loja 2</th>\n",
       "      <td>33.62</td>\n",
       "    </tr>\n",
       "    <tr>\n",
       "      <th>Loja 3</th>\n",
       "      <td>33.07</td>\n",
       "    </tr>\n",
       "    <tr>\n",
       "      <th>Loja 4</th>\n",
       "      <td>31.28</td>\n",
       "    </tr>\n",
       "  </tbody>\n",
       "</table>\n",
       "</div>"
      ],
      "text/plain": [
       "        Frete Médio\n",
       "Loja 1        34.69\n",
       "Loja 2        33.62\n",
       "Loja 3        33.07\n",
       "Loja 4        31.28"
      ]
     },
     "execution_count": 1230,
     "metadata": {},
     "output_type": "execute_result"
    }
   ],
   "source": [
    "frete_dados = [calcular_frete(loja) for loja in lojas]\n",
    "\n",
    "df_frete = pd.DataFrame({'Frete Médio':frete_dados}, index=nome_loja)\n",
    "df_frete"
   ]
  },
  {
   "cell_type": "code",
   "execution_count": null,
   "metadata": {},
   "outputs": [],
   "source": []
  },
  {
   "cell_type": "code",
   "execution_count": null,
   "metadata": {},
   "outputs": [],
   "source": []
  }
 ],
 "metadata": {
  "colab": {
   "provenance": []
  },
  "kernelspec": {
   "display_name": "Python 3 (ipykernel)",
   "language": "python",
   "name": "python3"
  },
  "language_info": {
   "codemirror_mode": {
    "name": "ipython",
    "version": 3
   },
   "file_extension": ".py",
   "mimetype": "text/x-python",
   "name": "python",
   "nbconvert_exporter": "python",
   "pygments_lexer": "ipython3",
   "version": "3.12.7"
  }
 },
 "nbformat": 4,
 "nbformat_minor": 4
}
